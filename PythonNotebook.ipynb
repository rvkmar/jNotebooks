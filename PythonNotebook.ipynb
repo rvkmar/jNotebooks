{
 "cells": [
  {
   "cell_type": "code",
   "execution_count": 19,
   "metadata": {},
   "outputs": [
    {
     "data": {
      "text/plain": [
       "8"
      ]
     },
     "execution_count": 19,
     "metadata": {},
     "output_type": "execute_result"
    }
   ],
   "source": [
    "2**3"
   ]
  },
  {
   "cell_type": "code",
   "execution_count": 20,
   "metadata": {},
   "outputs": [
    {
     "data": {
      "text/plain": [
       "1"
      ]
     },
     "execution_count": 20,
     "metadata": {},
     "output_type": "execute_result"
    }
   ],
   "source": [
    "2^3"
   ]
  },
  {
   "cell_type": "code",
   "execution_count": 21,
   "metadata": {},
   "outputs": [
    {
     "data": {
      "text/plain": [
       "5.551115123125783e-17"
      ]
     },
     "execution_count": 21,
     "metadata": {},
     "output_type": "execute_result"
    }
   ],
   "source": [
    "0.1+0.2-0.3"
   ]
  },
  {
   "cell_type": "code",
   "execution_count": 22,
   "metadata": {},
   "outputs": [
    {
     "data": {
      "text/plain": [
       "0.5"
      ]
     },
     "execution_count": 22,
     "metadata": {},
     "output_type": "execute_result"
    }
   ],
   "source": [
    "1/2"
   ]
  },
  {
   "cell_type": "code",
   "execution_count": 23,
   "metadata": {},
   "outputs": [],
   "source": [
    "new_list = ['a','e','x','b','c']"
   ]
  },
  {
   "cell_type": "code",
   "execution_count": 24,
   "metadata": {},
   "outputs": [],
   "source": [
    "new_list.sort()"
   ]
  },
  {
   "cell_type": "code",
   "execution_count": 25,
   "metadata": {},
   "outputs": [],
   "source": [
    "new_list.reverse()"
   ]
  },
  {
   "cell_type": "code",
   "execution_count": 26,
   "metadata": {},
   "outputs": [
    {
     "data": {
      "text/plain": [
       "['x', 'e', 'c', 'b', 'a']"
      ]
     },
     "execution_count": 26,
     "metadata": {},
     "output_type": "execute_result"
    }
   ],
   "source": [
    "new_list"
   ]
  },
  {
   "cell_type": "markdown",
   "metadata": {},
   "source": [
    "# Convert a List into a Tuple"
   ]
  },
  {
   "cell_type": "markdown",
   "metadata": {},
   "source": [
    "## Method 1"
   ]
  },
  {
   "cell_type": "code",
   "execution_count": 27,
   "metadata": {},
   "outputs": [
    {
     "name": "stdout",
     "output_type": "stream",
     "text": [
      "(1, 2, 3, 4)\n"
     ]
    }
   ],
   "source": [
    "# Python3 program to convert a  \n",
    "# list into a tuple \n",
    "def convert(list): \n",
    "    return tuple(list) \n",
    "  \n",
    "# Driver function \n",
    "list = [1, 2, 3, 4] \n",
    "print(convert(list)) "
   ]
  },
  {
   "cell_type": "markdown",
   "metadata": {},
   "source": [
    "## Method 2"
   ]
  },
  {
   "cell_type": "code",
   "execution_count": 28,
   "metadata": {},
   "outputs": [
    {
     "name": "stdout",
     "output_type": "stream",
     "text": [
      "(1, 2, 3, 4)\n"
     ]
    }
   ],
   "source": [
    "# Python3 program to convert a  \n",
    "# list into a tuple \n",
    "def convert(list): \n",
    "    return tuple(i for i in list) \n",
    "  \n",
    "# Driver function \n",
    "list = [1, 2, 3, 4] \n",
    "print(convert(list)) "
   ]
  },
  {
   "cell_type": "markdown",
   "metadata": {},
   "source": [
    "## Method 3"
   ]
  },
  {
   "cell_type": "code",
   "execution_count": 29,
   "metadata": {},
   "outputs": [
    {
     "name": "stdout",
     "output_type": "stream",
     "text": [
      "(1, 2, 3, 4)\n"
     ]
    }
   ],
   "source": [
    "# Python3 program to convert a  \n",
    "# list into a tuple \n",
    "def convert(list): \n",
    "    return (*list, ) \n",
    "  \n",
    "# Driver function \n",
    "list = [1, 2, 3, 4] \n",
    "print(convert(list)) "
   ]
  },
  {
   "cell_type": "markdown",
   "metadata": {},
   "source": [
    "## Method 4"
   ]
  },
  {
   "cell_type": "code",
   "execution_count": 36,
   "metadata": {},
   "outputs": [],
   "source": [
    "l = [4,5,6,7]\n",
    "m = tuple(l)"
   ]
  },
  {
   "cell_type": "code",
   "execution_count": 37,
   "metadata": {},
   "outputs": [
    {
     "data": {
      "text/plain": [
       "list"
      ]
     },
     "execution_count": 37,
     "metadata": {},
     "output_type": "execute_result"
    }
   ],
   "source": [
    "type(l)"
   ]
  },
  {
   "cell_type": "code",
   "execution_count": 40,
   "metadata": {},
   "outputs": [
    {
     "data": {
      "text/plain": [
       "(4, 5, 6, 7)"
      ]
     },
     "execution_count": 40,
     "metadata": {},
     "output_type": "execute_result"
    }
   ],
   "source": [
    "m"
   ]
  },
  {
   "cell_type": "code",
   "execution_count": 7,
   "metadata": {
    "ExecuteTime": {
     "end_time": "2019-12-03T12:15:14.226448Z",
     "start_time": "2019-12-03T12:15:14.220433Z"
    }
   },
   "outputs": [
    {
     "data": {
      "text/plain": [
       "'Now... Asir Julis is in bank.'"
      ]
     },
     "execution_count": 7,
     "metadata": {},
     "output_type": "execute_result"
    }
   ],
   "source": [
    "from random import randrange as rnd\n",
    "\n",
    "location = (\"bank\",\"office\",\"home\",\"canteen\")\n",
    "names = (\"Asir Julis\",\"Ravikumar\",\"Natraj\",\"Flora\")\n",
    "\n",
    "for every in location:\n",
    "    check = location[rnd(len(location))]\n",
    "    person = names[rnd(len(names))]\n",
    "    x = \"Now... \" + person + \" is in \" + check + \".\"\n",
    "\n",
    "x"
   ]
  },
  {
   "cell_type": "code",
   "execution_count": 24,
   "metadata": {
    "ExecuteTime": {
     "end_time": "2019-12-04T11:49:17.084338Z",
     "start_time": "2019-12-04T11:49:08.161621Z"
    }
   },
   "outputs": [],
   "source": [
    "from selenium import webdriver\n",
    "\n",
    "browser = webdriver.Chrome(executable_path=\"C:/Users/nagai/Desktop/Notebooks/chromedriver\")\n",
    "browser.get(url=\"https://www.facebook.com\")\n",
    "# http://localhost:8888/edit/Desktop/Notebooks/chromedriver.exe"
   ]
  },
  {
   "cell_type": "code",
   "execution_count": 2,
   "metadata": {
    "ExecuteTime": {
     "end_time": "2019-12-05T04:25:45.588951Z",
     "start_time": "2019-12-05T04:25:32.855643Z"
    }
   },
   "outputs": [
    {
     "name": "stdout",
     "output_type": "stream",
     "text": [
      "[youtube] BaW_jenozKc: Downloading webpage\n",
      "[youtube] BaW_jenozKc: Downloading video info webpage\n",
      "[download] Destination: youtube-dl test video ''_ä↭𝕐-BaW_jenozKc.f137.mp4\n",
      "[download] 100% of 2.11MiB in 00:05                  \n",
      "[download] Destination: youtube-dl test video ''_ä↭𝕐-BaW_jenozKc.f140.m4a\n",
      "[download] 100% of 154.06KiB in 00:00                  \n",
      "[ffmpeg] Merging formats into \"youtube-dl test video ''_ä↭𝕐-BaW_jenozKc.mp4\"\n",
      "Deleting original file youtube-dl test video ''_ä↭𝕐-BaW_jenozKc.f137.mp4 (pass -k to keep)\n",
      "Deleting original file youtube-dl test video ''_ä↭𝕐-BaW_jenozKc.f140.m4a (pass -k to keep)\n"
     ]
    }
   ],
   "source": [
    "from __future__ import unicode_literals\n",
    "import youtube_dl\n",
    "\n",
    "ydl_opts = {}\n",
    "with youtube_dl.YoutubeDL(ydl_opts) as ydl:\n",
    "    ydl.download(['https://www.youtube.com/watch?v=BaW_jenozKc'])"
   ]
  },
  {
   "cell_type": "code",
   "execution_count": 2,
   "metadata": {
    "ExecuteTime": {
     "end_time": "2019-12-06T10:15:39.328697Z",
     "start_time": "2019-12-06T10:15:39.324712Z"
    }
   },
   "outputs": [],
   "source": [
    "import subprocess\n",
    "import PyPDF2\n",
    "import re\n",
    "\n",
    "# output = subprocess.check_output([\"less\",\"BAG_15m_kzh_2012_de.pdf\"])\n",
    "\n",
    "re_data_prefix = re.compile(\"^[0-9]+[.].*$\")\n",
    "re_data_fields = re.compile(\"(([^ ]+[ ]?)+)\")\n",
    "# for line in output.splitlines():\n",
    "#     if re_data_prefix.match(line):\n",
    "#         print [l[0].strip() for l in re_data_fields.findall(line)]\n"
   ]
  }
 ],
 "metadata": {
  "kernelspec": {
   "display_name": "Python 3",
   "language": "python",
   "name": "python3"
  },
  "language_info": {
   "codemirror_mode": {
    "name": "ipython",
    "version": 3
   },
   "file_extension": ".py",
   "mimetype": "text/x-python",
   "name": "python",
   "nbconvert_exporter": "python",
   "pygments_lexer": "ipython3",
   "version": "3.7.5"
  }
 },
 "nbformat": 4,
 "nbformat_minor": 2
}
