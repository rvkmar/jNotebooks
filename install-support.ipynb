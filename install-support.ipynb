








<!DOCTYPE html>
<html lang="en">

<head>
  <meta charset="utf-8">
  <title>Jupyter Notebook Viewer</title>
  <meta name="viewport" content="width=device-width, initial-scale=1.0">
  <meta name="description" content="">
  <meta name="author" content="">
  
  <meta name="robots" content="noindex,nofollow">
  

  <!--NEW RELIC Start Perf Measurement-->
  
  <!--NREND-->

  <!-- Le styles -->
  <link href="/static/build/styles.css?v=7fe30404aaeedb40bf592c91e1d25a26" rel="stylesheet">

  <!-- Le HTML5 shim, for IE6-8 support of HTML5 elements -->
  <!--[if lt IE 9]>
    <script src="http://html5shim.googlecode.com/svn/trunk/html5.js"></script>
  <![endif]-->

  <!-- Le fav and touch icons -->
  <link rel="shortcut icon" href="/static/ico/ipynb_icon_16x16.png">
  <link rel="apple-touch-icon-precomposed" sizes="144x144"
        href="/static/ico/apple-touch-icon-144-precomposed.png?v=5a3c9ede93e2a8b8ea9e3f8f3da1a905">
  <link rel="apple-touch-icon-precomposed" sizes="114x114"
        href="/static/ico/apple-touch-icon-114-precomposed.png?v=45d86fc8f24dc00638035e1dd7a6d898">
  <link rel="apple-touch-icon-precomposed" sizes="72x72"
        href="/static/ico/apple-touch-icon-72-precomposed.png?v=540b5eb0f3cfd25f1439d1c9bd30e15f">
  <link rel="apple-touch-icon-precomposed"
        href="/static/ico/apple-touch-icon-57-precomposed.png?v=225f0590e187e1458625654f10a28f56">
  
  

  

  
  <meta name="twitter:card" content="summary">
  <meta name="twitter:title" content="Notebook on nbviewer">
  <meta name="twitter:description" content="Check out this Jupyter notebook!">

  
  <meta name="twitter:domain" content="nbviewer.jupyter.org">
  <meta name="twitter:image:src" content="http://ipython.org/ipython-doc/dev/_images/ipynb_icon_128x128.png">

  
    <link href="/static/build/notebook.css?v=b71b4a780ae775fd48f0eead7512c5dd" rel="stylesheet">
  

  

  
    <script src="https://cdnjs.cloudflare.com/ajax/libs/mathjax/2.7.1/MathJax.js?config=TeX-AMS_HTML" type="text/javascript">
    </script>
    <script type="text/javascript">
      init_mathjax = function() {
        if (window.MathJax) {
          // MathJax loaded
          MathJax.Hub.Config({
            TeX: {
              equationNumbers: {
                autoNumber: "AMS",
                useLabelIds: true
              }
            },
            tex2jax: {
              inlineMath: [ ['$','$'], ["\\(","\\)"] ],
              displayMath: [ ['$$','$$'], ["\\[","\\]"] ],
              processEscapes: true,
              processEnvironments: true
            },
            displayAlign: 'center',
            "HTML-CSS": {
              styles: {'.MathJax_Display': {"margin": 0}},
              linebreaks: { automatic: true }
            }
          });
          MathJax.Hub.Queue(["Typeset", MathJax.Hub]);
        }
      }
      init_mathjax();
    </script>
  

  
    <script>
      (function() {
        function addWidgetsRenderer() {
          var mimeElement = document.querySelector('script[type="application/vnd.jupyter.widget-view+json"]');
          var scriptElement = document.createElement('script');
          var widgetRendererSrc = 'https://unpkg.com/@jupyter-widgets/html-manager@0.15/dist/embed-amd.js';
          var widgetState;

          try {
            widgetState = mimeElement && JSON.parse(mimeElement.innerHTML);

            if (widgetState && (widgetState.version_major < 2 || !widgetState.version_major)) {
              widgetRendererSrc = 'https://unpkg.com/jupyter-js-widgets@2.1/dist/embed.js';
            }
          } catch(e) {}

          scriptElement.src = widgetRendererSrc;
          document.body.appendChild(scriptElement);
        }

        document.addEventListener('DOMContentLoaded', addWidgetsRenderer);
      }());
    </script>
  

</head>

<body class="nbviewer">

  <!-- These are loaded at the top of the body so they are available to
       notebook cells when they are loaded below. -->
  <script src="/static/components/jquery/dist/jquery.min.js?v=220afd743d9e9643852e31a135a9f3ae"></script>
  <script src="/static/components/requirejs/require.js?v=6da8be361b9ee26c5e721e76c6d4afce"></script>
  <script src="/static/components/moment/min/moment.min.js?v=89f87298ad94aa1e6b92f42eb66da043"></script>
<!-- Navbar
================================================== -->
  <nav id="menubar" class="navbar navbar-default navbar-fixed-top" data-spy="affix">
    <div class="container">
      <div class="navbar-header">
        <button type="button" class="navbar-toggle collapsed" data-toggle="collapse" data-target=".navbar-collapse">
          <span class="sr-only">Toggle navigation</span>
          <i class="fa fa-bars"></i>
        </button>
        <a class="navbar-brand" href="/">
          <img src="/static/img/nav_logo.svg?v=479cefe8d932fb14a67b93911b97d70f" width="159"/>
        </a>
      </div>

      <div class="collapse navbar-collapse">
        <ul class="nav navbar-nav navbar-right">
          <li>
            <a class="active" href="https://jupyter.org">JUPYTER</a>
          </li>
          <li>
    <a href="/faq" title="FAQ" >
      
        <span>FAQ</span>
      
    </a>
  </li>

          
  
    
  
    
      
        <li>
    <a href="script/github/fperez/nb-slideshow-template/blob/master/install-support.ipynb" title="View as Code" >
      <span class="fa fa-code fa-2x menu-icon"></span>
      <span class="menu-text">View as Code</span>
    </a>
  </li>
      
    
  

  

  
    <li>
    <a href="https://github.com/fperez/nb-slideshow-template/blob/master/install-support.ipynb" title="View on GitHub" >
      <span class="fa fa-github fa-2x menu-icon"></span>
      <span class="menu-text">View on GitHub</span>
    </a>
  </li>
  

  
    <li>
    <a href="https://mybinder.org/v2/gh/fperez/nb-slideshow-template/master?filepath=install-support.ipynb" title="Execute on Binder" >
      <span class="fa fa-icon-binder fa-2x menu-icon"></span>
      <span class="menu-text">Execute on Binder</span>
    </a>
  </li>
  

  <li>
    <a href="https://raw.githubusercontent.com/fperez/nb-slideshow-template/master/install-support.ipynb" title="Download Notebook" download>
      <span class="fa fa-download fa-2x menu-icon"></span>
      <span class="menu-text">Download Notebook</span>
    </a>
  </li>

        </ul>
      </div><!-- /.navbar-collapse -->
      
      
    </div>
  </nav>

  <div class="container container-main">
    
  
  <ol class="breadcrumb">
    
      <li>
        <a href="/github/fperez/nb-slideshow-template/tree/master">nb-slideshow-template</a>
      </li>
    
      <li>
        <a href="/github/fperez/nb-slideshow-template/tree/master/install-support.ipynb">install-support.ipynb</a>
      </li>
    
  </ol>
  
  <div id="notebook">
    <div id="notebook-container">
      <div class="cell border-box-sizing text_cell rendered"><div class="prompt input_prompt">
</div><div class="inner_cell">
<div class="text_cell_render border-box-sizing rendered_html">
<h1 id="Installing-the-slideshow-support">Installing the slideshow support<a class="anchor-link" href="#Installing-the-slideshow-support">&#182;</a></h1><p><strong>NOTE</strong> The tools here require IPython 1.0, they do <em>not</em> work with
IPython 0.13.2.</p>
<p>You should only need to run this notebook <em>once</em>.</p>
<p>It will install the slideshow tools in your IPython profile from github.  It's done in steps so you can debug it more easily if things go wrong.</p>
<p>Start by getting the location of your current profile:</p>

</div>
</div>
</div>
<div class="cell border-box-sizing code_cell rendered">
<div class="input">
<div class="prompt input_prompt">In&nbsp;[15]:</div>
<div class="inner_cell">
    <div class="input_area">
<div class=" highlight hl-ipython3"><pre><span></span><span class="n">profile_dir</span> <span class="o">=</span> <span class="n">get_ipython</span><span class="p">()</span><span class="o">.</span><span class="n">profile_dir</span><span class="o">.</span><span class="n">location</span>
<span class="n">profile_dir</span>
</pre></div>

    </div>
</div>
</div>

<div class="output_wrapper">
<div class="output">


<div class="output_area">

    <div class="prompt output_prompt">Out[15]:</div>




<div class="output_text output_subarea output_execute_result">
<pre>u&#39;/home/fperez/.ipython/profile_default&#39;</pre>
</div>

</div>

</div>
</div>

</div>
<div class="cell border-box-sizing text_cell rendered"><div class="prompt input_prompt">
</div><div class="inner_cell">
<div class="text_cell_render border-box-sizing rendered_html">
<p>Clone the <a href="https://github.com/ipython-contrib/IPython-notebook-extensions">Github repo</a> with IPython extensions, including the slideshow support, into the right location:</p>

</div>
</div>
</div>
<div class="cell border-box-sizing code_cell rendered">
<div class="input">
<div class="prompt input_prompt">In&nbsp;[3]:</div>
<div class="inner_cell">
    <div class="input_area">
<div class=" highlight hl-ipython3"><pre><span></span><span class="kn">import</span> <span class="nn">os</span>
<span class="n">tgt</span> <span class="o">=</span> <span class="n">os</span><span class="o">.</span><span class="n">path</span><span class="o">.</span><span class="n">join</span><span class="p">(</span> <span class="n">profile_dir</span><span class="p">,</span> <span class="s1">&#39;static&#39;</span><span class="p">,</span> <span class="s1">&#39;custom&#39;</span><span class="p">)</span>
<span class="o">!</span>git clone https://github.com/ipython-contrib/IPython-notebook-extensions.git <span class="nv">$tgt</span>
</pre></div>

    </div>
</div>
</div>

<div class="output_wrapper">
<div class="output">


<div class="output_area">

    <div class="prompt"></div>


<div class="output_subarea output_stream output_stdout output_text">
<pre>Cloning into &#39;/home/fperez/.ipython/profile_default/static/custom&#39;...
remote: Counting objects: 311, done.
remote: Compressing objects: 100% (170/170), done.
remote: Total 311 (delta 127), reused 309 (delta 125)
Receiving objects: 100% (311/311), 92.63 KiB, done.
Resolving deltas: 100% (127/127), done.
</pre>
</div>
</div>

</div>
</div>

</div>
<div class="cell border-box-sizing text_cell rendered"><div class="prompt input_prompt">
</div><div class="inner_cell">
<div class="text_cell_render border-box-sizing rendered_html">
<p>Let's <code>cd</code> into that directory and check that the contents look right:</p>

</div>
</div>
</div>
<div class="cell border-box-sizing code_cell rendered">
<div class="input">
<div class="prompt input_prompt">In&nbsp;[16]:</div>
<div class="inner_cell">
    <div class="input_area">
<div class=" highlight hl-ipython3"><pre><span></span><span class="o">%</span><span class="k">cd</span> $tgt
<span class="o">!</span>ls
</pre></div>

    </div>
</div>
</div>

<div class="output_wrapper">
<div class="output">


<div class="output_area">

    <div class="prompt"></div>


<div class="output_subarea output_stream output_stdout output_text">
<pre>/home/fperez/.ipython/profile_default/static/custom
autosavetime.js       custom.example.js  nbviewer_theme     slidemode
autoscroll.js	      custom.js		 no_exec_dunder.js  slideshow.js
breakpoint.js	      gist_it.js	 noscroll.js	    split-combine.js
clean_start.js	      history.js	 python		    toggle_all_line_number.js
codefolding.js	      hotkeys.js	 README.md
comment-uncomment.js  init_cell		 read-only.js
css_selector	      linenumbers.js	 shift-tab.js
</pre>
</div>
</div>

</div>
</div>

</div>
<div class="cell border-box-sizing text_cell rendered"><div class="prompt input_prompt">
</div><div class="inner_cell">
<div class="text_cell_render border-box-sizing rendered_html">
<p>Finally, write out a <code>custom.js</code> file that has activated the slideshow extension.  This is simply the provided <code>custom.example.js</code> file, with two lines commented out. Feel free to add more to activate other extensions, as explained in the <code>README.md</code> file:</p>

</div>
</div>
</div>
<div class="cell border-box-sizing code_cell rendered">
<div class="input">
<div class="prompt input_prompt">In&nbsp;[8]:</div>
<div class="inner_cell">
    <div class="input_area">
<div class=" highlight hl-ipython3"><pre><span></span><span class="o">%%writefile</span> custom.js
<span class="o">//</span> <span class="n">we</span> <span class="n">want</span> <span class="n">strict</span> <span class="n">javascript</span> <span class="n">that</span> <span class="n">fails</span>
<span class="o">//</span> <span class="n">on</span> <span class="n">ambiguous</span> <span class="n">syntax</span>
<span class="s2">&quot;using strict&quot;</span><span class="p">;</span>

<span class="o">//</span> <span class="n">do</span> <span class="ow">not</span> <span class="n">use</span> <span class="n">notebook</span> <span class="n">loaded</span>  <span class="n">event</span> <span class="k">as</span> <span class="n">it</span> <span class="ow">is</span> <span class="n">re</span><span class="o">-</span><span class="n">triggerd</span> <span class="n">on</span>
<span class="o">//</span> <span class="n">revert</span> <span class="n">to</span> <span class="n">checkpoint</span> <span class="n">but</span> <span class="n">this</span> <span class="n">allow</span> <span class="n">extesnsion</span> <span class="n">to</span> <span class="n">be</span> <span class="n">loaded</span>
<span class="o">//</span> <span class="n">late</span> <span class="n">enough</span> <span class="n">to</span> <span class="n">work</span><span class="o">.</span>
<span class="o">//</span>

<span class="err">$</span><span class="p">([</span><span class="n">IPython</span><span class="o">.</span><span class="n">events</span><span class="p">])</span><span class="o">.</span><span class="n">on</span><span class="p">(</span><span class="s1">&#39;app_initialized.NotebookApp&#39;</span><span class="p">,</span> <span class="n">function</span><span class="p">(){</span>


    <span class="o">/**</span>  <span class="n">Use</span> <span class="n">path</span> <span class="n">to</span> <span class="n">js</span> <span class="n">file</span> <span class="n">relative</span> <span class="n">to</span> <span class="o">/</span><span class="n">static</span><span class="o">/</span> <span class="nb">dir</span> <span class="n">without</span> <span class="n">leading</span> <span class="n">slash</span><span class="p">,</span> <span class="ow">or</span>
     <span class="o">*</span>  <span class="n">js</span> <span class="n">extension</span><span class="o">.</span>
     <span class="o">*</span>  <span class="n">Link</span> <span class="n">directly</span> <span class="n">to</span> <span class="n">file</span> <span class="ow">is</span> <span class="n">js</span> <span class="n">extension</span><span class="o">.</span>
     <span class="o">*</span>
     <span class="o">*</span>  <span class="n">first</span> <span class="n">argument</span> <span class="n">of</span> <span class="n">require</span> <span class="ow">is</span> <span class="n">a</span> <span class="o">**</span><span class="nb">list</span><span class="o">**</span> <span class="n">that</span> <span class="n">can</span> <span class="n">contains</span> <span class="n">several</span> <span class="n">modules</span> <span class="k">if</span> <span class="n">needed</span><span class="o">.</span>
     <span class="o">**/</span>

    <span class="o">//</span> <span class="n">require</span><span class="p">([</span><span class="s1">&#39;custom/noscroll&#39;</span><span class="p">]);</span>
    <span class="o">//</span> <span class="n">require</span><span class="p">([</span><span class="s1">&#39;custom/clean_start&#39;</span><span class="p">])</span>
    <span class="o">//</span> <span class="n">require</span><span class="p">([</span><span class="s1">&#39;custom/toggle_all_line_number&#39;</span><span class="p">])</span>
    <span class="o">//</span> <span class="n">require</span><span class="p">([</span><span class="s1">&#39;custom/gist_it&#39;</span><span class="p">]);</span>

    <span class="o">/**</span>
     <span class="o">*</span>  <span class="n">Link</span> <span class="n">to</span> <span class="n">entrypoint</span> <span class="k">if</span> <span class="n">extesnsion</span> <span class="ow">is</span> <span class="n">a</span> <span class="n">folder</span><span class="o">.</span>
     <span class="o">*</span>  <span class="n">to</span> <span class="n">be</span> <span class="n">consistent</span> <span class="k">with</span> <span class="n">commonjs</span> <span class="n">module</span><span class="p">,</span> <span class="n">the</span> <span class="n">entrypoint</span> <span class="ow">is</span> <span class="n">main</span><span class="o">.</span><span class="n">js</span>
     <span class="o">*</span>  <span class="n">here</span> <span class="n">youcan</span> <span class="n">also</span> <span class="n">trigger</span> <span class="n">a</span> <span class="n">custom</span> <span class="n">function</span> <span class="n">on</span> <span class="n">load</span> <span class="n">that</span> <span class="n">will</span> <span class="n">do</span> <span class="n">extra</span>
     <span class="o">*</span>  <span class="n">action</span> <span class="k">with</span> <span class="n">the</span> <span class="n">module</span> <span class="k">if</span> <span class="n">needed</span>
     <span class="o">**/</span>
     <span class="n">require</span><span class="p">([</span><span class="s1">&#39;custom/slidemode/main&#39;</span><span class="p">],</span><span class="n">function</span><span class="p">(</span><span class="n">slidemode</span><span class="p">){</span>
    <span class="o">//</span>     <span class="o">//</span> <span class="n">do</span> <span class="n">stuff</span>
     <span class="p">})</span>

<span class="p">});</span>
</pre></div>

    </div>
</div>
</div>

<div class="output_wrapper">
<div class="output">


<div class="output_area">

    <div class="prompt"></div>


<div class="output_subarea output_stream output_stdout output_text">
<pre>Writing custom.js
</pre>
</div>
</div>

</div>
</div>

</div>
<div class="cell border-box-sizing text_cell rendered"><div class="prompt input_prompt">
</div><div class="inner_cell">
<div class="text_cell_render border-box-sizing rendered_html">
<p>That's it! You should now restart your notebook server and reload the pages just to make sure you get fresh CSS.  If everything went well, your toolbar should look like this, with a new button highlighted here in red:</p>
<p><img src="toolbar-slideshow.png" alt="img"></p>
<p>That new button is the toggle to enter live slideshow mode, which you can use to switch between the normal editing mode (with the whole notebook as one long scrolling document) and the presentation mode.</p>
<p>Now that you've read this, look at the accompanying <code>notebook-slideshow-example</code> notebook as a starting illustration of how you can write a presentation-oriented notebook.</p>

</div>
</div>
</div>
 


    </div>
  </div>

  </div>


  
    <footer class="footer hidden-print">
      <div class="container">
        <div class="col-md-4">
          <p>
            This website does not host notebooks, it only renders notebooks
            available on other websites.
          </p>
        </div>

        <div class="col-md-4">
          <p>
            Delivered by <a href="https://www.fastly.com/">Fastly</a>,
            Rendered by <a href="https://developer.rackspace.com/?nbviewer=awesome">Rackspace</a>
          </p>
          <p>
            nbviewer GitHub <a href="https://github.com/jupyter/nbviewer">repository</a>.
          </p>
        </div>

        <div class="col-md-4">
          
  
            
              <p>
                nbviewer version:
                <a href="https://github.com/jupyter/nbviewer/commit/8a8fd298b446096dddc874da57e99dd22a2d8d97">
                  8a8fd29
                </a>
              </p>
            
          
  
  <p>
    nbconvert version: <a href="https://github.com/jupyter/nbconvert/releases/tag/5.6.1">
      5.6.1
    </a>
  </p>
  

          
  
  
  <p>
    Rendered
    <span class='date' data-date='Wed, 27 Nov 2019 10:58:53 UTC' title='Wed, 27 Nov 2019 10:58:53 UTC'>(Wed, 27 Nov 2019 10:58:53 UTC)</span>
  </p>
  

        </div>
      </div>
    </footer>
  

  <script src="/static/components/bootstrap/js/bootstrap.min.js?v=5869c96cc8f19086aee625d670d741f9"></script>
  <script src="/static/components/headroom.js/dist/headroom.min.js?v=b0a311ea668f8e768ea375f4a7abb81c"></script>
  <script src="/static/components/headroom.js/dist/jQuery.headroom.min.js?v=f3a1bae118315d0c234afc74dc6aab71"></script>

  
  
  <script>
    $(function(){ $("#menubar").headroom({
      tolerance: 5,
      offset: 205,
      classes: {
        initial: "animated",
        pinned: "slideInDown",
        unpinned: "slideOutUp"
      }
    })});
  </script>


  
  <script>
    (function(i,s,o,g,r,a,m){i['GoogleAnalyticsObject']=r;i[r]=i[r]||function(){
      (i[r].q=i[r].q||[]).push(arguments)},i[r].l=1*new Date();a=s.createElement(o),
      m=s.getElementsByTagName(o)[0];a.async=1;a.src=g;m.parentNode.insertBefore(a,m)
    })(window,document,'script','https://www.google-analytics.com/analytics.js','ga');
    ga('create', 'UA-52617120-5', 'auto',
       {'storage': 'none'});
    ga('set', 'anonymizeIp', true);
    ga('send', 'pageview');
  </script>
  
  <script>
    require({
        paths: {
          moment: "/static/components/moment/min/moment.min.js?v=89f87298ad94aa1e6b92f42eb66da043"
        }
      }, ["moment"], function(moment){
      var date = $("footer .date"),
        m = moment(new Date(date.data('date'))),
        update = function(){ date.text(m.fromNow()); };
      setInterval(update, 61*1000);
      update();
      var w = $(window).scroll(function(event){
        $("body").toggleClass("scrolled", w.scrollTop() > 0);
      });
    });
  </script>

  <!--NEW RELIC Stop Perf Measurement-->
  
  <!--NEW RELIC End-->
</body>
</html>